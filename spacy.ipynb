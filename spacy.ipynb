{
 "cells": [
  {
   "cell_type": "code",
   "execution_count": 1,
   "id": "067d0c3c",
   "metadata": {},
   "outputs": [],
   "source": [
    "%%python\n",
    "from importlib.util import find_spec\n",
    "import shutil\n",
    "import subprocess\n",
    "\n",
    "fix = \"\"\"\n",
    "-------------------------------------------------------------------------\n",
    "fix following the steps here:\n",
    "    https://github.com/modularml/mojo/issues/1085#issuecomment-1771403719\n",
    "-------------------------------------------------------------------------\n",
    "\"\"\"\n",
    "\n",
    "def install_if_missing(name: str):\n",
    "    if find_spec(name):\n",
    "        return\n",
    "\n",
    "    print(f\"{name} not found, installing...\")\n",
    "    try:\n",
    "        if shutil.which('python3'): python = \"python3\"\n",
    "        elif shutil.which('python'): python = \"python\"\n",
    "        else: raise (\"python not on path\" + fix)\n",
    "        subprocess.check_call([python, \"-m\", \"pip\", \"install\", name])\n",
    "    except:\n",
    "        raise ImportError(f\"{name} not found\" + fix)\n",
    "\n",
    "install_if_missing(\"spacy\")"
   ]
  },
  {
   "cell_type": "code",
   "execution_count": 2,
   "id": "initial_id",
   "metadata": {
    "collapsed": true,
    "is_executing": true
   },
   "outputs": [],
   "source": [
    "from python import Python\n",
    "let spacy = Python.import_module(\"spacy\")"
   ]
  },
  {
   "cell_type": "code",
   "execution_count": 41,
   "id": "a85ae7a6",
   "metadata": {},
   "outputs": [],
   "source": [
    "from math import sqrt"
   ]
  },
  {
   "cell_type": "code",
   "execution_count": 50,
   "id": "546a4c54",
   "metadata": {},
   "outputs": [],
   "source": [
    "let nlp = spacy.load('en_core_web_lg')\n",
    "let doc = nlp(\"dog flower tree.\")"
   ]
  },
  {
   "cell_type": "code",
   "execution_count": 51,
   "id": "49ddbe70",
   "metadata": {},
   "outputs": [
    {
     "name": "stdout",
     "output_type": "stream",
     "text": [
      "(300,)\n"
     ]
    }
   ],
   "source": [
    "print(doc[0].vector.shape)"
   ]
  },
  {
   "cell_type": "code",
   "execution_count": 58,
   "id": "98c8917e",
   "metadata": {},
   "outputs": [],
   "source": [
    "fn numpy_to_simd[np_size: Int, size: Int](np_array: PythonObject) raises -> SIMD[DType.float64, size]:\n",
    "    var result = SIMD[DType.float64, size]()\n",
    "    for i in range(np_size):\n",
    "        result[i] = np_array[i].to_float64()\n",
    "    return result"
   ]
  },
  {
   "cell_type": "code",
   "execution_count": 44,
   "id": "a8588d86",
   "metadata": {},
   "outputs": [],
   "source": [
    "fn cosine_similarity[size: Int](a: SIMD[DType.float64, size], b: SIMD[DType.float64, size]) -> Float64:\n",
    "    return (a*b).reduce_add() / sqrt((a**2).reduce_add() * (b**2).reduce_add() )"
   ]
  },
  {
   "cell_type": "code",
   "execution_count": 64,
   "id": "1a4a9c4e",
   "metadata": {},
   "outputs": [
    {
     "name": "stdout",
     "output_type": "stream",
     "text": [
      "Cosine Similarity: 0.13728142\n"
     ]
    }
   ],
   "source": [
    "%%python\n",
    "\n",
    "import spacy\n",
    "import numpy as np\n",
    "\n",
    "nlp = spacy.load('en_core_web_lg')\n",
    "doc = nlp(\"dog flower tree.\")\n",
    "\n",
    "a = doc[0].vector\n",
    "b = doc[1].vector\n",
    "\n",
    "dot_product = np.dot(a, b)\n",
    "norm_a = np.linalg.norm(a)\n",
    "norm_b = np.linalg.norm(b)\n",
    "\n",
    "cosine_similarity = dot_product / (norm_a * norm_b)\n",
    "\n",
    "print(\"Cosine Similarity:\", cosine_similarity)"
   ]
  },
  {
   "cell_type": "code",
   "execution_count": 65,
   "id": "c7db3d83",
   "metadata": {},
   "outputs": [
    {
     "name": "stderr",
     "output_type": "stream",
     "text": [
      "error: \u001b[0;1;31m\u001b[1mExpression [65]:7:24: \u001b[0m\u001b[1minvalid call to '__call__': argument #1 cannot be converted from 'SIMD[f64, 300]' to 'PythonObject'\n",
      "\u001b[0mprint(cosine_similarity(v1, v2))\n",
      "\u001b[0;1;32m      ~~~~~~~~~~~~~~~~~^~~~~~~~\n",
      "\u001b[0m\u001b[0m\n",
      "\u001b[0;1;30m\u001b[1mExpression [0]:1:1: \u001b[0m\u001b[1mfunction declared here\n",
      "\u001b[0mvar __lldb_repl_python__ = __mojo_repl_Python()\n",
      "\u001b[0;1;32m^\n",
      "\u001b[0m\u001b[0m\n",
      "error: \u001b[0;1;31m\u001b[1mExpression [65]:8:24: \u001b[0m\u001b[1minvalid call to '__call__': argument #1 cannot be converted from 'SIMD[f64, 300]' to 'PythonObject'\n",
      "\u001b[0mprint(cosine_similarity(v2, v1))\n",
      "\u001b[0;1;32m      ~~~~~~~~~~~~~~~~~^~~~~~~~\n",
      "\u001b[0m\u001b[0m\n",
      "\u001b[0;1;30m\u001b[1mExpression [0]:1:1: \u001b[0m\u001b[1mfunction declared here\n",
      "\u001b[0mvar __lldb_repl_python__ = __mojo_repl_Python()\n",
      "\u001b[0;1;32m^\n",
      "\u001b[0m\u001b[0m\n",
      "error: \u001b[0;1;31m\u001b[1mExpression [65]:9:24: \u001b[0m\u001b[1minvalid call to '__call__': argument #1 cannot be converted from 'SIMD[f64, 300]' to 'PythonObject'\n",
      "\u001b[0mprint(cosine_similarity(v1, v1))\n",
      "\u001b[0;1;32m      ~~~~~~~~~~~~~~~~~^~~~~~~~\n",
      "\u001b[0m\u001b[0m\n",
      "\u001b[0;1;30m\u001b[1mExpression [0]:1:1: \u001b[0m\u001b[1mfunction declared here\n",
      "\u001b[0mvar __lldb_repl_python__ = __mojo_repl_Python()\n",
      "\u001b[0;1;32m^\n",
      "\u001b[0m\u001b[0m\n",
      "expression failed to parse (no further compiler diagnostics)"
     ]
    }
   ],
   "source": [
    "\n",
    "\n",
    "let v1 = numpy_to_simd[300, 512](doc[0].vector)\n",
    "let v2 = numpy_to_simd[300, 512](doc[1].vector)\n",
    "let v3 = numpy_to_simd[300, 512](doc[2].vector)\n",
    "\n",
    "print(cosine_similarity(v1, v2))\n",
    "print(cosine_similarity(v2, v1))\n",
    "print(cosine_similarity(v1, v))"
   ]
  }
 ],
 "metadata": {
  "kernelspec": {
   "display_name": "Mojo",
   "language": "mojo",
   "name": "mojo-jupyter-kernel"
  },
  "language_info": {
   "codemirror_mode": {
    "name": "mojo"
   },
   "file_extension": ".mojo",
   "mimetype": "text/x-mojo",
   "name": "mojo"
  }
 },
 "nbformat": 4,
 "nbformat_minor": 5
}
